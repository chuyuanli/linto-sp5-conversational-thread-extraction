{
 "cells": [
  {
   "cell_type": "code",
   "execution_count": 1,
   "metadata": {},
   "outputs": [],
   "source": [
    "from irc_chat_reader import *"
   ]
  },
  {
   "cell_type": "code",
   "execution_count": 2,
   "metadata": {},
   "outputs": [],
   "source": [
    "import glob\n",
    "all = glob.glob(\"../data/dev/*\")"
   ]
  },
  {
   "cell_type": "code",
   "execution_count": 3,
   "metadata": {},
   "outputs": [
    {
     "data": {
      "text/plain": [
       "2500"
      ]
     },
     "execution_count": 3,
     "metadata": {},
     "output_type": "execute_result"
    }
   ],
   "source": [
    "d = read_data(all)\n",
    "len(d)"
   ]
  },
  {
   "cell_type": "code",
   "execution_count": 4,
   "metadata": {},
   "outputs": [],
   "source": [
    "# one instance in a chat = file, turn original id, \"gold\"=existing links to turn\n",
    "# also: name, query, gold, text_ascii, text_tok, info, target_info \n",
    "(name, link, nums, text_ascii, text_tok, info, target_info) = d[0]\n",
    "\n",
    "# does that duplicate all the dialog for each instance ? no it's a pointer... still fucked up"
   ]
  },
  {
   "cell_type": "code",
   "execution_count": 5,
   "metadata": {},
   "outputs": [
    {
     "data": {
      "text/plain": [
       "True"
      ]
     },
     "execution_count": 5,
     "metadata": {},
     "output_type": "execute_result"
    }
   ],
   "source": [
    "d[1][4] is d[0][4]"
   ]
  },
  {
   "cell_type": "code",
   "execution_count": 6,
   "metadata": {},
   "outputs": [
    {
     "data": {
      "text/plain": [
       "('../data/dev/2004-11-15_03.annotation.txt', 1003, [1002], 1250, 1250, 179)"
      ]
     },
     "execution_count": 6,
     "metadata": {},
     "output_type": "execute_result"
    }
   ],
   "source": [
    "name, link, nums, len(text_ascii), len(info), len(target_info)"
   ]
  },
  {
   "cell_type": "code",
   "execution_count": 7,
   "metadata": {},
   "outputs": [
    {
     "name": "stdout",
     "output_type": "stream",
     "text": [
      "[(('|trey|', 'usual'), [0]), (('tweaked', 'hrdwrbob'), [1, 17, 29, 42, 88, 96, 102, 107, 117, 130, 139, 150, 161, 164, 183, 187, 198, 205, 221, 225, 233, 253, 257, 264, 275]), (('Matt|', '|trey|'), [2, 40, 47]), (('Matt|', 'epod'), [5, 7, 15]), (('epod', 'matt|'), [6, 14])]\n"
     ]
    }
   ],
   "source": [
    "# id of explicit user-addresse pairs\n",
    "print(list(target_info.items())[:5])"
   ]
  },
  {
   "cell_type": "code",
   "execution_count": 8,
   "metadata": {},
   "outputs": [
    {
     "data": {
      "text/plain": [
       "(['[12:18]', '<|trey|>', 'usual,', 'quite', 'stable', 'though', ':)'],\n",
       " ['<s>', '<user>', ',', 'quite', 'stable', 'though', ':)'])"
      ]
     },
     "execution_count": 8,
     "metadata": {},
     "output_type": "execute_result"
    }
   ],
   "source": [
    "text_ascii[0], text_tok[0]"
   ]
  },
  {
   "cell_type": "code",
   "execution_count": 9,
   "metadata": {},
   "outputs": [],
   "source": [
    "info_0 = (user, targets, chour, cmin, system, is_bot, last_from_user, line, next_from_user) = info[0]"
   ]
  },
  {
   "cell_type": "code",
   "execution_count": 10,
   "metadata": {},
   "outputs": [
    {
     "name": "stdout",
     "output_type": "stream",
     "text": [
      "0 ('|trey|', {'usual'}, 12, 18, False, False, None, ['[12:18]', '<|trey|>', 'usual,', 'quite', 'stable', 'though', ':)'], 8)\n",
      "1 ('tweaked', {'hrdwrbob'}, 12, 18, False, False, None, ['[12:18]', '<tweaked>', 'HrdwrBoB:', 'ok', 'how', 'many', 'partitions', 'should', 'i', 'make?'], 17)\n",
      "2 ('Matt|', {'|trey|'}, 12, 18, False, False, None, ['[12:18]', '<Matt|>', '|trey|,', 'top', 'in', 'the', 'list', '-->', 'ubuntu', 'servers'], 5)\n",
      "3 ('usual', set(), 12, 18, False, False, None, ['[12:18]', '<usual>', 'a', 'few', 'libs', 'and', 'media'], 4)\n",
      "4 ('usual', set(), 12, 18, False, False, 3, ['[12:18]', '<usual>', 'maybe', 'some', 'others'], 64)\n",
      "5 ('Matt|', {'epod'}, 12, 18, False, False, 2, ['[12:18]', '<Matt|>', 'epod,', 'ftp', 'in', 'the', 'my', 'computer', 'window', 'huh?'], 7)\n",
      "6 ('epod', {'matt|'}, 12, 18, False, False, None, ['[12:18]', '<epod>', 'Matt|,', 'command', 'prompt'], 14)\n",
      "7 ('Matt|', {'epod'}, 12, 18, False, False, 5, ['[12:18]', '<Matt|>', 'epod,', 'oh', 'k'], 13)\n",
      "8 ('|trey|', {'matt|'}, 12, 18, False, False, 0, ['[12:18]', '<|trey|>', 'Matt|,', 'ahh,', \"didn't\", 'see', 'that', ':)'], 12)\n",
      "9 ('billytwowilly', {'hrdwrbob'}, 12, 19, False, False, None, ['[12:19]', '<billytwowilly>', 'HrdwrBoB,', 'I', 'keep', 'getting', 'this:', '/lib/modules/2.6.8.1-3-686/build:', 'No', 'such', 'file', 'or', 'directory.', 'Stop.'], 16)\n"
     ]
    }
   ],
   "source": [
    "for i,turn in enumerate(info[:10]): \n",
    "    print(i,turn)"
   ]
  },
  {
   "cell_type": "code",
   "execution_count": 11,
   "metadata": {},
   "outputs": [],
   "source": [
    "query = 1003 # absolute id of turn\n",
    "i = 1002 # absolute id of candidate head\n",
    "\n",
    "features = get_features(name, query, i, text_ascii, text_tok, info, target_info, False)"
   ]
  },
  {
   "cell_type": "code",
   "execution_count": 12,
   "metadata": {},
   "outputs": [
    {
     "name": "stdout",
     "output_type": "stream",
     "text": [
      "[1.0, 0.0, 0.0, 0.0, 0.0, 0.0, 0.0, 0.0, 0.0, 0.0, 0.0, 0.0, 0.0, 0.0, 0.0, 1.0, 0.0, 0.0, 0.0, 0.125, 1.0, 0.0, 0.0, 1.0, 0.0, 0.0, 0.0, 0.0, 1.0, 0.0, 0.0, 0.0, 0.0, 0.0, 0.125, 0.0, 0.0, 0.0, 1.0, 0.0, 0.0, 0.0, 0.0, 1.0, 0.0, 0.0, 0.0, 0.0, 0.0, 1.0, 0.0, 0.01, 0.0, 0.0, 0.0, 1.0, 0.0, 0.0, 0.0, 0.0, 1.0, 1.0, 1.0, 0.0, 0.0, 0.0, 0.0, 0.0, 0.0, 0.0, 0.0, 0.09090909090909091, 0.16666666666666666, 0.0, 1.0, 0.0, 0.0]\n"
     ]
    },
    {
     "data": {
      "text/plain": [
       "(None, 77)"
      ]
     },
     "execution_count": 12,
     "metadata": {},
     "output_type": "execute_result"
    }
   ],
   "source": [
    "# boolean as 0/1; no trace of feature name in kummerfeld code\n",
    "print(features), len(features)"
   ]
  },
  {
   "cell_type": "code",
   "execution_count": 16,
   "metadata": {},
   "outputs": [],
   "source": [
    "# reconstructed feature list\n",
    "# terminology kummerfeld\n",
    "# target = adressee or dependent to attach\n",
    "# src/link: head\n",
    "# query : dependent to attach \n",
    "\n",
    "feature_names = [\n",
    "    \"Year\",\n",
    "    \"msg/mn1\",# bin -1,1\n",
    "    \"msg/mn2\",# 1, 3\n",
    "    \"msg/mn3\",# 3,10\n",
    "    \"msg/mn4\",#10, 10000\n",
    "    # turn features\n",
    "    \"system_msg\",\n",
    "    \"hour/24\",\n",
    "    \"targetted?\",\n",
    "    \"prev_from_user?\",\n",
    "    \"prev_from_user_hastarget?\",\n",
    "    \"tdist1\",# how long was prev ? 5 bins\n",
    "    \"tdist2\",#\n",
    "    \"tdist3\",#\n",
    "    \"tdist4\",#\n",
    "    \"tdist4\",#\n",
    "    \"turn_dist1\",#how long was prev ? 4 bins,\n",
    "    \"turn_dist2\",#how long was prev ? 4 bins,\n",
    "    \"turn_dist3\",#how long was prev ? 4 bins,\n",
    "    \"turn_dist4\",#how long was prev ? 4 bins,\n",
    "    \"bot?\",\n",
    "    # candidate head features\n",
    "    \"system_msg\",\n",
    "    \"hour/24\",\n",
    "    \"targetted?\",\n",
    "    \"prev_from_user?\",\n",
    "    \"prev_from_user_hastarget?\",\n",
    "    \"tdist1\",# how long was prev ? 5 bins\n",
    "    \"tdist2\",#\n",
    "    \"tdist3\",#\n",
    "    \"tdist4\",#\n",
    "    \"tdist4\",#\n",
    "    \"turn_dist1\",#how long was prev ? 4 bins,\n",
    "    \"turn_dist2\",#how long was prev ? 4 bins,\n",
    "    \"turn_dist3\",#how long was prev ? 4 bins,\n",
    "    \"turn_dist4\",#how long was prev ? 4 bins,\n",
    "    \"bot?\",#\n",
    "    \"message after from the same user?\",\n",
    "    \"message before from the same user?\",\n",
    "    # pairwise features\n",
    "    \"self_link?\", #  - Is this a self-link?\n",
    "    \"pair_turn_dist/100\",    #  - How far apart in messages are the two?\n",
    "    \"pair_turn_dist>1\",\n",
    "    \"pair_time_dist/100\",#  - How far apart in time are the two?\n",
    "    \"pair_time_dist_bin\",# 5 bins\n",
    "    \"head_adress_target?\",#  - Does the link target the query user\n",
    "    \"query_adress_head?\",#  - Does the query target the link user\n",
    "    \"no_turn_in_between_from_target?\",    #  - none in between from src?\n",
    "    \"no_turn_in_between_from_head?\",#  - none in between from head ?\n",
    "    #  - previously src addressed target?\n",
    "    #  - future src addressed target?\n",
    "    #  - src addressed target in between?\n",
    "    #  - previously target addressed src?\n",
    "    #  - future target addressed src?\n",
    "    #  - target addressed src in between?\n",
    "    #----------\n",
    "    #  - are they the same speaker?\n",
    "    \n",
    "    #  - do they have an addressee in common ? (and are not the same)\n",
    "    \n",
    "    #  - Do they have words in common? \n",
    "    #A.B/A, and both not empty and not self link\n",
    "    #A.B/B \n",
    "    # intersection is 0 ?\n",
    "    # is 1\n",
    "    # is >1 \n",
    "    # is > 5\n",
    "]\n",
    "\n",
    "\n",
    "\n",
    "\n"
   ]
  },
  {
   "cell_type": "code",
   "execution_count": 15,
   "metadata": {},
   "outputs": [
    {
     "data": {
      "text/plain": [
       "46"
      ]
     },
     "execution_count": 15,
     "metadata": {},
     "output_type": "execute_result"
    }
   ],
   "source": [
    "len(feature_names)"
   ]
  },
  {
   "cell_type": "code",
   "execution_count": null,
   "metadata": {},
   "outputs": [],
   "source": []
  }
 ],
 "metadata": {
  "kernelspec": {
   "display_name": "Allennlp2",
   "language": "python",
   "name": "allennl2"
  },
  "language_info": {
   "codemirror_mode": {
    "name": "ipython",
    "version": 3
   },
   "file_extension": ".py",
   "mimetype": "text/x-python",
   "name": "python",
   "nbconvert_exporter": "python",
   "pygments_lexer": "ipython3",
   "version": "3.7.7"
  }
 },
 "nbformat": 4,
 "nbformat_minor": 2
}
